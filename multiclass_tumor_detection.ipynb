{
 "cells": [
  {
   "cell_type": "code",
   "execution_count": 1,
   "metadata": {
    "_cell_guid": "79c7e3d0-c299-4dcb-8224-4455121ee9b0",
    "_uuid": "d629ff2d2480ee46fbb7e2d37f6b5fab8052498a"
   },
   "outputs": [],
   "source": [
    "import numpy as np\n",
    "import pandas as pd\n",
    "import seaborn as sns\n",
    "import matplotlib.pyplot as plt\n",
    "import cv2\n",
    "import itertools\n",
    "import os\n",
    "\n",
    "from keras.utils.np_utils import to_categorical \n",
    "from keras.models import Sequential\n",
    "from keras.layers import Dense, Dropout, Flatten, Conv2D, MaxPool2D\n",
    "from keras.optimizers import RMSprop,Adam\n",
    "from keras.preprocessing.image import ImageDataGenerator\n",
    "from keras.callbacks import ReduceLROnPlateau\n",
    "from keras.callbacks import EarlyStopping\n",
    "from sklearn.metrics import confusion_matrix\n",
    "from keras.utils.np_utils import to_categorical \n",
    "\n",
    "from sklearn.model_selection import train_test_split"
   ]
  },
  {
   "cell_type": "markdown",
   "metadata": {},
   "source": [
    "### Data Preparation"
   ]
  },
  {
   "cell_type": "code",
   "execution_count": 5,
   "metadata": {},
   "outputs": [],
   "source": [
    "# load the data\n",
    "data = (r'C:/Users/almag/Desktop/CS156/braintumor/Training')\n",
    "classes = ['glioma_tumor', 'meningioma_tumor', 'no_tumor', 'pituitary_tumor']\n",
    "for i in classes:\n",
    "    path = os.path.join(data, i)\n",
    "    for img in os.listdir(path):\n",
    "        img_array = cv2.imread(os.path.join(path,img))  "
   ]
  },
  {
   "cell_type": "code",
   "execution_count": 8,
   "metadata": {},
   "outputs": [],
   "source": [
    "# preprocessing the data\n",
    "\n",
    "train_data = []\n",
    "\n",
    "imsize = 128\n",
    "image_array = cv2.resize(img_array, (imsize, imsize))\n",
    "\n",
    "for i in classes:\n",
    "    train_path = os.path.join(data,i)\n",
    "    tag = classes.index(i)    \n",
    "    for img in os.listdir(train_path):\n",
    "        image_arr = cv2.imread(os.path.join(train_path , img), cv2.IMREAD_GRAYSCALE)\n",
    "        new_image_array = cv2.resize(image_arr, (imsize,imsize))\n",
    "        train_data.append([new_image_array , tag])\n"
   ]
  },
  {
   "cell_type": "code",
   "execution_count": 10,
   "metadata": {},
   "outputs": [],
   "source": [
    "# feature selection\n",
    "\n",
    "X = []\n",
    "Y = []\n",
    "\n",
    "for i,j in train_data:\n",
    "    X.append(i)\n",
    "    Y.append(j)\n",
    "    \n",
    "X = np.array(X).reshape(-1,imsize,imsize)\n",
    "X = X/255.0  \n",
    "X = X.reshape(-1,128,128,1)\n",
    "\n",
    "# encode y\n",
    "y_encoded = to_categorical(Y, num_classes = 4)"
   ]
  },
  {
   "cell_type": "code",
   "execution_count": 11,
   "metadata": {},
   "outputs": [],
   "source": [
    "# test set: 10%\n",
    "X_train , X_test, y_train, y_test = train_test_split(X, \n",
    "                                                     y_encoded ,\n",
    "                                                     test_size = 0.1,\n",
    "                                                     random_state = 42)\n",
    "# validation set: 10%\n",
    "X_train , X_val, y_train, y_val = train_test_split(X_train, \n",
    "                                                   y_train, \n",
    "                                                   test_size = 0.1, \n",
    "                                                   random_state = 42)\n"
   ]
  },
  {
   "cell_type": "markdown",
   "metadata": {},
   "source": [
    "### The model"
   ]
  },
  {
   "cell_type": "code",
   "execution_count": 12,
   "metadata": {},
   "outputs": [],
   "source": [
    "# initiate the model\n",
    "nn = Sequential()"
   ]
  },
  {
   "cell_type": "code",
   "execution_count": 13,
   "metadata": {},
   "outputs": [],
   "source": [
    "# adding layers\n",
    "\n",
    "nn.add(Conv2D(filters = 128, kernel_size = (3,3),padding = 'Same', activation ='softmax'))\n",
    "nn.add(MaxPool2D(pool_size=(2,2), strides=(2,2)))\n",
    "nn.add(Dropout(0.2))\n",
    "\n",
    "nn.add(Conv2D(filters = 256, kernel_size = (2,2),padding = 'Same', activation ='relu'))\n",
    "nn.add(MaxPool2D(pool_size=(2,2), strides=(2,2)))\n",
    "nn.add(Dropout(0.2))\n",
    "\n",
    "nn.add(Flatten())\n",
    "\n",
    "nn.add(Dense(1024, activation = \"relu\"))\n",
    "nn.add(Dropout(0.5))\n",
    "\n",
    "nn.add(Dense(4, activation = \"softmax\"))"
   ]
  },
  {
   "cell_type": "code",
   "execution_count": 19,
   "metadata": {},
   "outputs": [],
   "source": [
    "### PARAMETER CHOICES ###\n",
    "\n",
    "# optimizer: Adam because it combines good properties of Adadelta and RMSprop\n",
    "# loss: categorical_crossentropy' is most efficient for categorical classification\n",
    "# metrics: we need to report test error rates, which is 1-accuracy\n",
    "\n",
    "nn.compile(optimizer = 'Adam' , loss = \"categorical_crossentropy\", metrics=[\"accuracy\"])\n",
    "\n",
    "epochs = 5\n",
    "batch_size = 32\n",
    "\n",
    "# augment the images\n",
    "\n",
    "imagegen = ImageDataGenerator(\n",
    "        horizontal_flip=True,\n",
    "        zca_whitening=False, \n",
    "        width_shift_range=0,  \n",
    "        height_shift_range=0,  \n",
    "        vertical_flip=False)"
   ]
  },
  {
   "cell_type": "code",
   "execution_count": 20,
   "metadata": {},
   "outputs": [
    {
     "name": "stdout",
     "output_type": "stream",
     "text": [
      "Epoch 1/5\n",
      "73/73 [==============================] - 231s 3s/step - loss: 1.2478 - accuracy: 0.4563 - val_loss: 1.0988 - val_accuracy: 0.5367\n",
      "Epoch 2/5\n",
      "73/73 [==============================] - 238s 3s/step - loss: 1.0803 - accuracy: 0.5274 - val_loss: 0.9872 - val_accuracy: 0.5676\n",
      "Epoch 3/5\n",
      "73/73 [==============================] - 239s 3s/step - loss: 0.9762 - accuracy: 0.5889 - val_loss: 0.9214 - val_accuracy: 0.6023\n",
      "Epoch 4/5\n",
      "73/73 [==============================] - 239s 3s/step - loss: 0.9407 - accuracy: 0.6112 - val_loss: 0.8955 - val_accuracy: 0.6332\n",
      "Epoch 5/5\n",
      "73/73 [==============================] - 236s 3s/step - loss: 0.9083 - accuracy: 0.6373 - val_loss: 0.8620 - val_accuracy: 0.6525\n"
     ]
    }
   ],
   "source": [
    "imagegen.fit(X_train)\n",
    "history = nn.fit(imagegen.flow(X_train,y_train,batch_size = batch_size),\n",
    "                              epochs = epochs, validation_data = (X_val,y_val))   "
   ]
  },
  {
   "cell_type": "markdown",
   "metadata": {},
   "source": [
    "### The accuracy"
   ]
  },
  {
   "cell_type": "code",
   "execution_count": 21,
   "metadata": {},
   "outputs": [
    {
     "data": {
      "text/plain": [
       "<matplotlib.legend.Legend at 0x14110bacb38>"
      ]
     },
     "execution_count": 21,
     "metadata": {},
     "output_type": "execute_result"
    },
    {
     "data": {
      "image/png": "[encoded data removed]",
      "text/plain": [
       "<Figure size 432x288 with 1 Axes>"
      ]
     },
     "metadata": {},
     "output_type": "display_data"
    }
   ],
   "source": [
    "plt.plot(history.history[\"accuracy\"],c = \"blue\")\n",
    "plt.plot(history.history[\"val_accuracy\"],c = \"green\")\n",
    "plt.title(\"Accuracy\")\n",
    "plt.ylabel(\"Accuracy\")\n",
    "plt.xlabel(\"Epochs\")\n",
    "plt.rcParams[\"figure.figsize\"] = (50,50)\n",
    "plt.legend([\"train\", \"test\"])"
   ]
  },
  {
   "cell_type": "markdown",
   "metadata": {},
   "source": [
    "# Accuracy of Test Dataset"
   ]
  },
  {
   "cell_type": "code",
   "execution_count": 22,
   "metadata": {},
   "outputs": [
    {
     "data": {
      "text/plain": [
       "0.6202090382575989"
      ]
     },
     "execution_count": 22,
     "metadata": {},
     "output_type": "execute_result"
    }
   ],
   "source": [
    "score = nn.evaluate(X_test, y_test, verbose = 0)\n",
    "score[1]"
   ]
  }
 ],
 "metadata": {
  "kernelspec": {
   "display_name": "Python 3",
   "language": "python",
   "name": "python3"
  },
  "language_info": {
   "codemirror_mode": {
    "name": "ipython",
    "version": 3
   },
   "file_extension": ".py",
   "mimetype": "text/x-python",
   "name": "python",
   "nbconvert_exporter": "python",
   "pygments_lexer": "ipython3",
   "version": "3.6.5"
  }
 },
 "nbformat": 4,
 "nbformat_minor": 4
}
